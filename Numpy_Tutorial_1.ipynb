{
  "nbformat": 4,
  "nbformat_minor": 0,
  "metadata": {
    "colab": {
      "name": "Numpy Tutorial_1.ipynb",
      "provenance": [],
      "authorship_tag": "ABX9TyNIS7oneLWr0BcyCdzI6ipj",
      "include_colab_link": true
    },
    "kernelspec": {
      "name": "python3",
      "display_name": "Python 3"
    },
    "language_info": {
      "name": "python"
    }
  },
  "cells": [
    {
      "cell_type": "markdown",
      "metadata": {
        "id": "view-in-github",
        "colab_type": "text"
      },
      "source": [
        "<a href=\"https://colab.research.google.com/github/vaishnavi63/AI-Amrita/blob/main/Numpy_Tutorial_1.ipynb\" target=\"_parent\"><img src=\"https://colab.research.google.com/assets/colab-badge.svg\" alt=\"Open In Colab\"/></a>"
      ]
    },
    {
      "cell_type": "markdown",
      "metadata": {
        "id": "jIkiILOHuvKS"
      },
      "source": [
        "**Numpy Tutorial**\n",
        "\n",
        "Introduction to Numpy"
      ]
    },
    {
      "cell_type": "code",
      "metadata": {
        "id": "PNq0NLDIvCdT"
      },
      "source": [
        "#importing numpy\n",
        "import numpy as np"
      ],
      "execution_count": 3,
      "outputs": []
    },
    {
      "cell_type": "markdown",
      "metadata": {
        "id": "xwh4bu_KwBSV"
      },
      "source": [
        "***Creating Array in Numpy***"
      ]
    },
    {
      "cell_type": "code",
      "metadata": {
        "id": "PoT0XiyCqEuJ",
        "colab": {
          "base_uri": "https://localhost:8080/"
        },
        "outputId": "48cb2175-c539-42c0-93eb-26e0421dc9e1"
      },
      "source": [
        "myPythonList = [1,9,8,3]\n",
        "print(myPythonList)"
      ],
      "execution_count": 3,
      "outputs": [
        {
          "output_type": "stream",
          "text": [
            "[1, 9, 8, 3]\n"
          ],
          "name": "stdout"
        }
      ]
    },
    {
      "cell_type": "markdown",
      "metadata": {
        "id": "eSRvdh15wbYm"
      },
      "source": [
        "***Converting list into numpy array***"
      ]
    },
    {
      "cell_type": "code",
      "metadata": {
        "colab": {
          "base_uri": "https://localhost:8080/"
        },
        "id": "dHoa5yFxwiQz",
        "outputId": "2a4ab78d-c863-4aa8-f048-ee547fb05687"
      },
      "source": [
        "numpy_array_from_list = np.array(myPythonList)\n",
        "numpy_array_from_list"
      ],
      "execution_count": 4,
      "outputs": [
        {
          "output_type": "execute_result",
          "data": {
            "text/plain": [
              "array([1, 9, 8, 3])"
            ]
          },
          "metadata": {
            "tags": []
          },
          "execution_count": 4
        }
      ]
    },
    {
      "cell_type": "code",
      "metadata": {
        "colab": {
          "base_uri": "https://localhost:8080/"
        },
        "id": "3alUAUx1w5LD",
        "outputId": "7917aab5-aea5-454d-beb2-a02398151f99"
      },
      "source": [
        "import numpy as np\n",
        "a  = np.array([1,9,8,3])\n",
        "print(a)"
      ],
      "execution_count": 5,
      "outputs": [
        {
          "output_type": "stream",
          "text": [
            "[1 9 8 3]\n"
          ],
          "name": "stdout"
        }
      ]
    },
    {
      "cell_type": "code",
      "metadata": {
        "colab": {
          "base_uri": "https://localhost:8080/"
        },
        "id": "pxdowBKMw9t1",
        "outputId": "112bcde8-bd62-4f69-f59d-b09db6062405"
      },
      "source": [
        "x=numpy_array_from_list + 10\n",
        "print(x)"
      ],
      "execution_count": 6,
      "outputs": [
        {
          "output_type": "stream",
          "text": [
            "[11 19 18 13]\n"
          ],
          "name": "stdout"
        }
      ]
    },
    {
      "cell_type": "markdown",
      "metadata": {
        "id": "G7YGx5EsxMHN"
      },
      "source": [
        "***Shape of Array***"
      ]
    },
    {
      "cell_type": "code",
      "metadata": {
        "colab": {
          "base_uri": "https://localhost:8080/"
        },
        "id": "u-mPJhhSxGng",
        "outputId": "8fd36696-5907-4bda-c787-93c22b05ea93"
      },
      "source": [
        "a  = np.array([1,2,3])\n",
        "print(a.shape) #To know shape\n",
        "print(a.dtype) #To know the datatype"
      ],
      "execution_count": 7,
      "outputs": [
        {
          "output_type": "stream",
          "text": [
            "(3,)\n",
            "int64\n"
          ],
          "name": "stdout"
        }
      ]
    },
    {
      "cell_type": "code",
      "metadata": {
        "colab": {
          "base_uri": "https://localhost:8080/"
        },
        "id": "cu4AmYvrxfe6",
        "outputId": "5c64646e-9115-4b86-c19d-9f0494478097"
      },
      "source": [
        "#### Different type\n",
        "b  = np.array([1.1,2.0,3.2])\n",
        "print(b.dtype)"
      ],
      "execution_count": 8,
      "outputs": [
        {
          "output_type": "stream",
          "text": [
            "float64\n"
          ],
          "name": "stdout"
        }
      ]
    },
    {
      "cell_type": "code",
      "metadata": {
        "colab": {
          "base_uri": "https://localhost:8080/"
        },
        "id": "-BvIakZQxmhM",
        "outputId": "a7aebc0e-6868-4bea-f0d4-cbd0177d3bee"
      },
      "source": [
        "### 2 dimension\n",
        "c = np.array([(1,2,3),\n",
        "              (4,5,6)])\n",
        "print(c)"
      ],
      "execution_count": 12,
      "outputs": [
        {
          "output_type": "stream",
          "text": [
            "[[1 2 3]\n",
            " [4 5 6]]\n"
          ],
          "name": "stdout"
        }
      ]
    },
    {
      "cell_type": "code",
      "metadata": {
        "colab": {
          "base_uri": "https://localhost:8080/"
        },
        "id": "VR85xDY4xqY7",
        "outputId": "44f8c93d-cf99-4150-a456-ca539f19fd9b"
      },
      "source": [
        "d = np.array([\n",
        "    [[1, 2,3],\n",
        "        [4, 5, 6]],\n",
        "    [[7, 8,9],\n",
        "        [10, 11, 12]]\n",
        "])\n",
        "print(d.shape)"
      ],
      "execution_count": 13,
      "outputs": [
        {
          "output_type": "stream",
          "text": [
            "(2, 2, 3)\n"
          ],
          "name": "stdout"
        }
      ]
    },
    {
      "cell_type": "markdown",
      "metadata": {
        "id": "GUDbkkXD3Ytj"
      },
      "source": [
        "***numpy.zeros()***"
      ]
    },
    {
      "cell_type": "code",
      "metadata": {
        "colab": {
          "base_uri": "https://localhost:8080/"
        },
        "id": "Ig_gyH9x3WvJ",
        "outputId": "d52d7ea4-891f-44c9-d1a6-7cc668994bcb"
      },
      "source": [
        "import numpy as np\n",
        "x=np.zeros((3,3), dtype=np.int16)\n",
        "print(x)"
      ],
      "execution_count": 15,
      "outputs": [
        {
          "output_type": "stream",
          "text": [
            "[[0 0 0]\n",
            " [0 0 0]\n",
            " [0 0 0]]\n"
          ],
          "name": "stdout"
        }
      ]
    },
    {
      "cell_type": "code",
      "metadata": {
        "colab": {
          "base_uri": "https://localhost:8080/"
        },
        "id": "cteuqE7h4MiJ",
        "outputId": "ce0553e2-1fa8-4f1e-8984-7cc055db91e9"
      },
      "source": [
        "import numpy as np\n",
        "np.ones((2,2,3), dtype=np.int16)\t"
      ],
      "execution_count": 20,
      "outputs": [
        {
          "output_type": "execute_result",
          "data": {
            "text/plain": [
              "array([[[1, 1, 1],\n",
              "        [1, 1, 1]],\n",
              "\n",
              "       [[1, 1, 1],\n",
              "        [1, 1, 1]]], dtype=int16)"
            ]
          },
          "metadata": {
            "tags": []
          },
          "execution_count": 20
        }
      ]
    },
    {
      "cell_type": "markdown",
      "metadata": {
        "id": "kueMcBOr49kS"
      },
      "source": [
        "***Reshape Data***\n",
        "\n",
        "numpy.reshape(a, newShape, order='C') Here,\n",
        "\n",
        "a: Array that you want to reshape\n",
        "\n",
        "newShape: The new desires shape\n",
        "\n",
        "Order: Default is C which is an essential row style."
      ]
    },
    {
      "cell_type": "code",
      "metadata": {
        "colab": {
          "base_uri": "https://localhost:8080/"
        },
        "id": "NjER6E3u5Pcp",
        "outputId": "41a95382-b37a-4c86-91e5-80fc461fa994"
      },
      "source": [
        "import numpy as np\n",
        "e  = np.array([(1,2,3), (4,5,6)])\n",
        "print(e)\n",
        "e.reshape(3,2)"
      ],
      "execution_count": 21,
      "outputs": [
        {
          "output_type": "stream",
          "text": [
            "[[1 2 3]\n",
            " [4 5 6]]\n"
          ],
          "name": "stdout"
        },
        {
          "output_type": "execute_result",
          "data": {
            "text/plain": [
              "array([[1, 2],\n",
              "       [3, 4],\n",
              "       [5, 6]])"
            ]
          },
          "metadata": {
            "tags": []
          },
          "execution_count": 21
        }
      ]
    },
    {
      "cell_type": "markdown",
      "metadata": {
        "id": "hbI1ibSi5YVv"
      },
      "source": [
        "***Flatten Data***\n",
        "\n",
        "**Syntax is**\n",
        "\n",
        "numpy.flatten(order='C') Here,\n",
        "\n",
        "Order: Default is C which is an essential row style.\n"
      ]
    },
    {
      "cell_type": "code",
      "metadata": {
        "colab": {
          "base_uri": "https://localhost:8080/"
        },
        "id": "fES8Tc3-5gcR",
        "outputId": "8b27642a-3a6b-43f0-df8f-f54b23ce1358"
      },
      "source": [
        "d.flatten()"
      ],
      "execution_count": 23,
      "outputs": [
        {
          "output_type": "execute_result",
          "data": {
            "text/plain": [
              "array([ 1,  2,  3,  4,  5,  6,  7,  8,  9, 10, 11, 12])"
            ]
          },
          "metadata": {
            "tags": []
          },
          "execution_count": 23
        }
      ]
    },
    {
      "cell_type": "markdown",
      "metadata": {
        "id": "Hha8DU6M5vht"
      },
      "source": [
        "**What is hstack?** \n",
        "\n",
        "With hstack you can appened data horizontally. This is a very convenient function in Numpy"
      ]
    },
    {
      "cell_type": "code",
      "metadata": {
        "colab": {
          "base_uri": "https://localhost:8080/"
        },
        "id": "qSavM9sC6Cb0",
        "outputId": "7981264f-10d9-4d81-bd13-67f89db7b582"
      },
      "source": [
        "# Horitzontal Stack\n",
        "import numpy as np\n",
        "f = np.array([1,2,3])\n",
        "g = np.array([4,5,6])\n",
        "\n",
        "print('Horizontal Append:', np.hstack((f, g)))"
      ],
      "execution_count": 24,
      "outputs": [
        {
          "output_type": "stream",
          "text": [
            "Horizontal Append: [1 2 3 4 5 6]\n"
          ],
          "name": "stdout"
        }
      ]
    },
    {
      "cell_type": "markdown",
      "metadata": {
        "id": "9Dw5E5C96Jaf"
      },
      "source": [
        "**What is vstack?**\n",
        "\n",
        "With vstack you can appened data vertically. Lets study it with an example:"
      ]
    },
    {
      "cell_type": "code",
      "metadata": {
        "colab": {
          "base_uri": "https://localhost:8080/"
        },
        "id": "f5UGfT4p6R_i",
        "outputId": "e601060d-ad39-4689-8581-36008333b7ef"
      },
      "source": [
        "## Vertical Stack\n",
        "import numpy as np\n",
        "f = np.array([1,2,3])\n",
        "g = np.array([4,5,6])\n",
        "print('Vertical Append:', np.vstack((f, g)))"
      ],
      "execution_count": 25,
      "outputs": [
        {
          "output_type": "stream",
          "text": [
            "Vertical Append: [[1 2 3]\n",
            " [4 5 6]]\n"
          ],
          "name": "stdout"
        }
      ]
    },
    {
      "cell_type": "markdown",
      "metadata": {
        "id": "pAlGp7fs6fnL"
      },
      "source": [
        "**Generate Random Numbers**\n",
        "To generate random numbers for Gaussian distribution use\n",
        "\n",
        "numpy.random.normal(loc, scale, size)\n",
        "\n",
        "Here\n",
        "\n",
        "Loc: the mean. The center of distribution\n",
        "scale: standard deviation.\n",
        "Size: number of returns"
      ]
    },
    {
      "cell_type": "code",
      "metadata": {
        "colab": {
          "base_uri": "https://localhost:8080/"
        },
        "id": "VtF7biyr6jfM",
        "outputId": "e5102e9f-26c2-433a-f99f-e17b0ceb2992"
      },
      "source": [
        "## Generate random nmber from normal distribution\n",
        "normal_array = np.random.normal(5, 0.5, 10)\n",
        "print(normal_array)\t\t\t"
      ],
      "execution_count": 26,
      "outputs": [
        {
          "output_type": "stream",
          "text": [
            "[5.17393065 4.52531646 4.54346084 5.59953241 4.53983312 5.68192874\n",
            " 5.65217817 5.09644169 4.46888788 5.53846982]\n"
          ],
          "name": "stdout"
        }
      ]
    },
    {
      "cell_type": "markdown",
      "metadata": {
        "id": "Y0wXAkI867-J"
      },
      "source": [
        "**Asarray**\n",
        "The asarray()function is used when you want to convert an input to an array. The input could be a lists, tuple, ndarray, etc.\n",
        "\n",
        "Syntax:\n",
        "\n",
        "numpy.asarray(data, dtype=None, order=None)[source]\n",
        "Here,\n",
        "\n",
        "data: Data that you want to convert to an array\n",
        "\n",
        "dtype: This is an optional argument. If not specified, the data type is inferred from the input data\n",
        "\n",
        "Order: Default is C which is an essential row style. Other option is F (Fortan-style)"
      ]
    },
    {
      "cell_type": "code",
      "metadata": {
        "colab": {
          "base_uri": "https://localhost:8080/"
        },
        "id": "sFzI9RyX7AvP",
        "outputId": "ae4aba47-ad24-4b39-9b21-d73bf0fa8cb1"
      },
      "source": [
        "A = np.matrix(np.ones((4,4)))\t\t\n",
        "np.array(A)[2]=2  #immutable\n",
        "print(A)"
      ],
      "execution_count": 28,
      "outputs": [
        {
          "output_type": "stream",
          "text": [
            "[[1. 1. 1. 1.]\n",
            " [1. 1. 1. 1.]\n",
            " [1. 1. 1. 1.]\n",
            " [1. 1. 1. 1.]]\n"
          ],
          "name": "stdout"
        }
      ]
    },
    {
      "cell_type": "code",
      "metadata": {
        "colab": {
          "base_uri": "https://localhost:8080/"
        },
        "id": "Ags7PcYU8uXv",
        "outputId": "068b2fed-32b3-4b86-fc5d-02027a45ee9c"
      },
      "source": [
        "np.asarray(A)[2]=2\n",
        "print(A)"
      ],
      "execution_count": 29,
      "outputs": [
        {
          "output_type": "stream",
          "text": [
            "[[1. 1. 1. 1.]\n",
            " [1. 1. 1. 1.]\n",
            " [2. 2. 2. 2.]\n",
            " [1. 1. 1. 1.]]\n"
          ],
          "name": "stdout"
        }
      ]
    },
    {
      "cell_type": "markdown",
      "metadata": {
        "id": "18_LoO1nSk2v"
      },
      "source": [
        "**What is numpy.arange()?**\n",
        "numpy.arange() is an inbuilt numpy function that returns an ndarray object containing evenly spaced values within a defined interval. For instance, you want to create values from 1 to 10; you can use numpy.arange() function.\n",
        "\n",
        "**Syntax:**\n",
        "\n",
        "numpy.arange(start, stop,step) \n",
        "Start: Start of interval\n",
        "Stop: End of interval\n",
        "Step: Spacing between values. Default step is 1"
      ]
    },
    {
      "cell_type": "code",
      "metadata": {
        "colab": {
          "base_uri": "https://localhost:8080/"
        },
        "id": "FXyVMrfxStdR",
        "outputId": "deaf4c40-80ce-471f-9c9a-3b10d2fe1f1e"
      },
      "source": [
        "np.arange(1, 11)\t"
      ],
      "execution_count": 4,
      "outputs": [
        {
          "output_type": "execute_result",
          "data": {
            "text/plain": [
              "array([ 1,  2,  3,  4,  5,  6,  7,  8,  9, 10])"
            ]
          },
          "metadata": {
            "tags": []
          },
          "execution_count": 4
        }
      ]
    },
    {
      "cell_type": "code",
      "metadata": {
        "colab": {
          "base_uri": "https://localhost:8080/"
        },
        "id": "KsdtK8vIS9o3",
        "outputId": "a0eabb04-8f12-4410-d00a-b3a3f80b3006"
      },
      "source": [
        "np.arange(1, 14, 4)\t"
      ],
      "execution_count": 5,
      "outputs": [
        {
          "output_type": "execute_result",
          "data": {
            "text/plain": [
              "array([ 1,  5,  9, 13])"
            ]
          },
          "metadata": {
            "tags": []
          },
          "execution_count": 5
        }
      ]
    },
    {
      "cell_type": "markdown",
      "metadata": {
        "id": "Nx-L1IZeTGCs"
      },
      "source": [
        "**Linspace**\n",
        "Linspace gives evenly spaced samples.\n",
        "\n",
        "**Syntax:**\n",
        "\n",
        "numpy.linspace(start, stop, num, endpoint)\n",
        "Here,\n",
        "\n",
        "Start: Starting value of the sequence\n",
        "Stop: End value of the sequence\n",
        "Num: Number of samples to generate. Default is 50\n",
        "Endpoint: If True (default), stop is the last value. If False, stop value is not included."
      ]
    },
    {
      "cell_type": "code",
      "metadata": {
        "colab": {
          "base_uri": "https://localhost:8080/"
        },
        "id": "n5e9Hr2nUBL5",
        "outputId": "f6d87aca-c8a0-461a-c98f-374fc33ce794"
      },
      "source": [
        "import numpy as np\n",
        "np.linspace(1.0, 10.0, num=20)"
      ],
      "execution_count": 6,
      "outputs": [
        {
          "output_type": "execute_result",
          "data": {
            "text/plain": [
              "array([ 1.        ,  1.47368421,  1.94736842,  2.42105263,  2.89473684,\n",
              "        3.36842105,  3.84210526,  4.31578947,  4.78947368,  5.26315789,\n",
              "        5.73684211,  6.21052632,  6.68421053,  7.15789474,  7.63157895,\n",
              "        8.10526316,  8.57894737,  9.05263158,  9.52631579, 10.        ])"
            ]
          },
          "metadata": {
            "tags": []
          },
          "execution_count": 6
        }
      ]
    },
    {
      "cell_type": "code",
      "metadata": {
        "colab": {
          "base_uri": "https://localhost:8080/"
        },
        "id": "PMCp82FgUEn5",
        "outputId": "b0f42656-4c24-49a9-cf8c-eb1b71d4f604"
      },
      "source": [
        "np.linspace(1.0, 5.0, num=5, endpoint=False)"
      ],
      "execution_count": 7,
      "outputs": [
        {
          "output_type": "execute_result",
          "data": {
            "text/plain": [
              "array([1. , 1.8, 2.6, 3.4, 4.2])"
            ]
          },
          "metadata": {
            "tags": []
          },
          "execution_count": 7
        }
      ]
    },
    {
      "cell_type": "markdown",
      "metadata": {
        "id": "QAtm7VvlUiCH"
      },
      "source": [
        "**LogSpace**\n",
        "LogSpace returns even spaced numbers on a log scale. Logspace has the same parameters as np.linspace.\n",
        "\n",
        "**Syntax:**\n",
        "\n",
        "numpy.logspace(start, stop, num, endpoint)"
      ]
    },
    {
      "cell_type": "code",
      "metadata": {
        "colab": {
          "base_uri": "https://localhost:8080/"
        },
        "id": "JQx7zMdUUHP9",
        "outputId": "be5a1f76-d800-4ad1-a48d-7f0dab243ad6"
      },
      "source": [
        "np.logspace(3.0, 4.0, num=4)"
      ],
      "execution_count": 8,
      "outputs": [
        {
          "output_type": "execute_result",
          "data": {
            "text/plain": [
              "array([ 1000.        ,  2154.43469003,  4641.58883361, 10000.        ])"
            ]
          },
          "metadata": {
            "tags": []
          },
          "execution_count": 8
        }
      ]
    },
    {
      "cell_type": "code",
      "metadata": {
        "colab": {
          "base_uri": "https://localhost:8080/"
        },
        "id": "Go1Bl-zgUxn0",
        "outputId": "62f56d19-d3a7-49d0-abc8-8eedb97c497c"
      },
      "source": [
        "x = np.array([1,2,3], dtype=np.complex128)\n",
        "x.itemsize\t"
      ],
      "execution_count": 9,
      "outputs": [
        {
          "output_type": "execute_result",
          "data": {
            "text/plain": [
              "16"
            ]
          },
          "metadata": {
            "tags": []
          },
          "execution_count": 9
        }
      ]
    },
    {
      "cell_type": "markdown",
      "metadata": {
        "id": "1XYaHcZ2U8zi"
      },
      "source": [
        "**Indexing and Slicing**\n",
        "\n",
        "Slicing data is trivial with numpy. We will slice the matrice \"e\". Note that, in Python, you need to use the brackets to return the rows or columns"
      ]
    },
    {
      "cell_type": "code",
      "metadata": {
        "colab": {
          "base_uri": "https://localhost:8080/"
        },
        "id": "TAGj2-HdU4IQ",
        "outputId": "062c01d4-8f00-40ba-ae44-ea6dbe4d06e4"
      },
      "source": [
        "## Slice\n",
        "import numpy as np\n",
        "e  = np.array([(1,2,3), (4,5,6)])\n",
        "print(e)"
      ],
      "execution_count": 10,
      "outputs": [
        {
          "output_type": "stream",
          "text": [
            "[[1 2 3]\n",
            " [4 5 6]]\n"
          ],
          "name": "stdout"
        }
      ]
    },
    {
      "cell_type": "code",
      "metadata": {
        "colab": {
          "base_uri": "https://localhost:8080/"
        },
        "id": "kV8sTHmMVKGe",
        "outputId": "d051e22d-c87a-4b36-b933-543faf660be9"
      },
      "source": [
        "## First column\n",
        "print('First row:', e[0])\n",
        "\n",
        "## Second col\n",
        "print('Second row:', e[1])"
      ],
      "execution_count": 11,
      "outputs": [
        {
          "output_type": "stream",
          "text": [
            "First row: [1 2 3]\n",
            "Second row: [4 5 6]\n"
          ],
          "name": "stdout"
        }
      ]
    },
    {
      "cell_type": "code",
      "metadata": {
        "colab": {
          "base_uri": "https://localhost:8080/"
        },
        "id": "y6ZnlTKlVMnp",
        "outputId": "83f727bd-9960-4403-ef70-0028284a5ef2"
      },
      "source": [
        "print('Second column:', e[:,1])\t"
      ],
      "execution_count": 12,
      "outputs": [
        {
          "output_type": "stream",
          "text": [
            "Second column: [2 5]\n"
          ],
          "name": "stdout"
        }
      ]
    },
    {
      "cell_type": "code",
      "metadata": {
        "colab": {
          "base_uri": "https://localhost:8080/"
        },
        "id": "yr_cf4PCVPvS",
        "outputId": "84b39307-6f3e-491d-a84c-037202750340"
      },
      "source": [
        "## Second Row, two values\n",
        "print(e[1, :2])"
      ],
      "execution_count": 13,
      "outputs": [
        {
          "output_type": "stream",
          "text": [
            "[4 5]\n"
          ],
          "name": "stdout"
        }
      ]
    },
    {
      "cell_type": "markdown",
      "metadata": {
        "id": "0YpsBDJ9Vflk"
      },
      "source": [
        "NumPy has quite a few useful statistical functions for finding minimum, maximum, percentile standard deviation and variance, etc from the given elements in the array. The functions are explained as follows −\n",
        "\n",
        "Statistical function\n",
        "Numpy is equipped with the robust statistical function as listed below\n",
        "\n",
        "**Function\tNumpy**\n",
        "\n",
        "Min\tnp.min()\n",
        "Max\tnp.max()\n",
        "Mean\tnp.mean()\n",
        "Median\tnp.median()\n",
        "Standard deviation\tnp.std()"
      ]
    },
    {
      "cell_type": "code",
      "metadata": {
        "colab": {
          "base_uri": "https://localhost:8080/"
        },
        "id": "NSEWMLOoVU_c",
        "outputId": "44bc9f41-9f9d-407d-a39f-330eec1a2a7c"
      },
      "source": [
        "import numpy as np\n",
        "normal_array = np.random.normal(5, 0.5, 10)\n",
        "print(normal_array)\t"
      ],
      "execution_count": 14,
      "outputs": [
        {
          "output_type": "stream",
          "text": [
            "[5.33668409 4.54189187 4.97036175 5.89113463 5.31034955 4.73817135\n",
            " 4.37415177 4.58597706 4.37747008 4.94276008]\n"
          ],
          "name": "stdout"
        }
      ]
    },
    {
      "cell_type": "code",
      "metadata": {
        "colab": {
          "base_uri": "https://localhost:8080/"
        },
        "id": "-xiI0ygoVzMt",
        "outputId": "fb940d02-3692-4c55-d5c4-4b81f507193a"
      },
      "source": [
        "### Min \n",
        "print(np.min(normal_array))\n",
        "\n",
        "### Max \n",
        "print(np.max(normal_array))\n",
        "\n",
        "### Mean \n",
        "print(np.mean(normal_array))\n",
        "\n",
        "### Median\n",
        "print(np.median(normal_array))\n",
        "\n",
        "### Sd\n",
        "print(np.std(normal_array))"
      ],
      "execution_count": 15,
      "outputs": [
        {
          "output_type": "stream",
          "text": [
            "4.374151770724714\n",
            "5.891134627652972\n",
            "4.906895222038083\n",
            "4.840465712858419\n",
            "0.46371603261721506\n"
          ],
          "name": "stdout"
        }
      ]
    },
    {
      "cell_type": "markdown",
      "metadata": {
        "id": "2EVusyR7W-8z"
      },
      "source": [
        "**What is numpy dot product?**\n",
        "Numpy.dot product is a powerful library for matrix computation. For instance, you can compute the dot product with np.dot. Numpy.dot product is the dot product of a and b. numpy.dot() in Python handles the 2D arrays and perform matrix multiplications.\n",
        "\n",
        "**Syntax**\n",
        "\n",
        "numpy.dot(x, y, out=None)\n",
        "Parameters\n",
        "\n",
        "Here,\n",
        "\n",
        "x,y: Input arrays. x and y both should be 1-D or 2-D for the np.dot() function to work\n",
        "\n",
        "out: This is the output argument for 1-D array scalar to be returned. Otherwise ndarray should be returned.\n",
        "\n",
        "**Returns**\n",
        "\n",
        "The function numpy.dot() in Python returns a Dot product of two arrays x and y. The dot() function returns a scalar if both x and y are 1-D; otherwise, it returns an array. If 'out' is given then it is returned.\n",
        "\n",
        "**Raises**\n",
        "\n",
        "*Dot product in Python raises a ValueError exception if the last dimension of x does not have the same size as the second last dimension of y.*"
      ]
    },
    {
      "cell_type": "code",
      "metadata": {
        "colab": {
          "base_uri": "https://localhost:8080/"
        },
        "id": "gYp_QYLfV2gp",
        "outputId": "38b20fc3-14ef-42f3-c5da-eb1be3610842"
      },
      "source": [
        "## Linear algebra\n",
        "### Dot product: product of two arrays\n",
        "f = np.array([1,2])\n",
        "g = np.array([4,5])\n",
        "### 1*4+2*5\n",
        "np.dot(f, g)"
      ],
      "execution_count": 16,
      "outputs": [
        {
          "output_type": "execute_result",
          "data": {
            "text/plain": [
              "14"
            ]
          },
          "metadata": {
            "tags": []
          },
          "execution_count": 16
        }
      ]
    },
    {
      "cell_type": "markdown",
      "metadata": {
        "id": "MMn8MwyPXeFY"
      },
      "source": [
        "**Matrix Multiplication**\n",
        "\n",
        "The Numpu matmul() function is used to return the matrix product of 2 arrays. Here is how it works\n",
        "\n",
        "1) 2-D arrays, it returns normal product\n",
        "\n",
        "2) Dimensions > 2, the product is treated as a stack of matrix\n",
        "\n",
        "3) 1-D array is first promoted to a matrix, and then the product is calculated\n",
        "\n",
        "numpy.matmul(x, y, out=None)\n",
        "Here,\n",
        "\n",
        "x,y: Input arrays. scalars not *allowed*."
      ]
    },
    {
      "cell_type": "code",
      "metadata": {
        "colab": {
          "base_uri": "https://localhost:8080/"
        },
        "id": "eqIvBkc7XO0S",
        "outputId": "f75fe036-b13a-4d0b-f475-df3a0ae6894a"
      },
      "source": [
        "### Matmul: matruc product of two arrays\n",
        "h = [[1,2],[3,4]] \n",
        "i = [[5,6],[7,8]] \n",
        "### 1*5+2*7 = 19\n",
        "np.matmul(h, i)"
      ],
      "execution_count": 17,
      "outputs": [
        {
          "output_type": "execute_result",
          "data": {
            "text/plain": [
              "array([[19, 22],\n",
              "       [43, 50]])"
            ]
          },
          "metadata": {
            "tags": []
          },
          "execution_count": 17
        }
      ]
    },
    {
      "cell_type": "markdown",
      "metadata": {
        "id": "EuuUjunhXwH7"
      },
      "source": [
        "***Inverse of a Matrix***"
      ]
    },
    {
      "cell_type": "code",
      "metadata": {
        "colab": {
          "base_uri": "https://localhost:8080/"
        },
        "id": "vJsj4pYlXu1i",
        "outputId": "109d1fe1-0aff-4891-a3a3-18f8438a58d9"
      },
      "source": [
        "# Taking a 3 * 3 matrix\n",
        "A = np.array([[6, 1, 1],\n",
        "              [4, -2, 5],\n",
        "              [2, 8, 7]])\n",
        "  \n",
        "# Calculating the inverse of the matrix\n",
        "print(np.linalg.inv(A))"
      ],
      "execution_count": 18,
      "outputs": [
        {
          "output_type": "stream",
          "text": [
            "[[ 0.17647059 -0.00326797 -0.02287582]\n",
            " [ 0.05882353 -0.13071895  0.08496732]\n",
            " [-0.11764706  0.1503268   0.05228758]]\n"
          ],
          "name": "stdout"
        }
      ]
    },
    {
      "cell_type": "markdown",
      "metadata": {
        "id": "-ku4aRrYYRbG"
      },
      "source": [
        "***Determinant of a Matrix***"
      ]
    },
    {
      "cell_type": "code",
      "metadata": {
        "colab": {
          "base_uri": "https://localhost:8080/"
        },
        "id": "byvH1InSYPRC",
        "outputId": "d3b3718a-2efe-4cb6-dc2b-be83cc2a3798"
      },
      "source": [
        "# creating a 2X2 Numpy matrix\n",
        "n_array = np.array([[50, 29], [30, 44]])\n",
        "  \n",
        "# Displaying the Matrix\n",
        "print(\"Numpy Matrix is:\")\n",
        "print(n_array)\n",
        "  \n",
        "# calculating the determinant of matrix\n",
        "det = np.linalg.det(n_array)\n",
        "  \n",
        "print(\"\\nDeterminant of given 2X2 matrix:\")\n",
        "print(int(det))"
      ],
      "execution_count": 19,
      "outputs": [
        {
          "output_type": "stream",
          "text": [
            "Numpy Matrix is:\n",
            "[[50 29]\n",
            " [30 44]]\n",
            "\n",
            "Determinant of given 2X2 matrix:\n",
            "1330\n"
          ],
          "name": "stdout"
        }
      ]
    },
    {
      "cell_type": "markdown",
      "metadata": {
        "id": "yLga3Qd8Ydgx"
      },
      "source": [
        "***Rank of Matrix***"
      ]
    },
    {
      "cell_type": "code",
      "metadata": {
        "colab": {
          "base_uri": "https://localhost:8080/"
        },
        "id": "DoElL24LYcm6",
        "outputId": "72fb44b8-0c5b-41e0-c307-56a070767fff"
      },
      "source": [
        "# Let's create a square matrix (NxN matrix)\n",
        "mx = np.array([[1,1,1],[0,1,2],[1,5,3]])\n",
        "\n",
        "# Let's get rank of matrix \n",
        "np.linalg.matrix_rank(mx)"
      ],
      "execution_count": 20,
      "outputs": [
        {
          "output_type": "execute_result",
          "data": {
            "text/plain": [
              "3"
            ]
          },
          "metadata": {
            "tags": []
          },
          "execution_count": 20
        }
      ]
    },
    {
      "cell_type": "markdown",
      "metadata": {
        "id": "0g8lUqNIYmRF"
      },
      "source": [
        "***Eigenvectors and Eigenvalues***"
      ]
    },
    {
      "cell_type": "code",
      "metadata": {
        "colab": {
          "base_uri": "https://localhost:8080/"
        },
        "id": "sw__aIIcYj_O",
        "outputId": "be368957-7200-4e65-c733-2b99015d1d27"
      },
      "source": [
        "example_matrix = np.array([\n",
        "  [1,2,3,4],\n",
        "  [5,6,7,8],\n",
        "  [9,10,11,12],\n",
        "  [13,14,15,16]\n",
        "])\n",
        "eigenvalues, eigenvectors = np.linalg.eig(example_matrix)\n",
        "print(eigenvalues, eigenvectors)"
      ],
      "execution_count": 21,
      "outputs": [
        {
          "output_type": "stream",
          "text": [
            "[ 3.62093727e+01 -2.20937271e+00 -5.14138333e-16 -2.08943529e-15] [[-0.15115432 -0.72704996  0.01790738 -0.26832672]\n",
            " [-0.34923733 -0.28320876  0.38415354  0.71367217]\n",
            " [-0.54732033  0.16063243 -0.82202921 -0.62236419]\n",
            " [-0.74540333  0.60447363  0.41996829  0.17701873]]\n"
          ],
          "name": "stdout"
        }
      ]
    },
    {
      "cell_type": "markdown",
      "metadata": {
        "id": "38qoOmDeY1kH"
      },
      "source": [
        "***Diagonal of Matrix***"
      ]
    },
    {
      "cell_type": "code",
      "metadata": {
        "colab": {
          "base_uri": "https://localhost:8080/"
        },
        "id": "Zj4IcdTfY0ar",
        "outputId": "aa003092-cbca-4efb-d504-831e2d2e2982"
      },
      "source": [
        "# make matrix with numpy\n",
        "gfg = np.matrix('[6, 2; 3, 4]')\n",
        "         \n",
        "# applying matrix.diagonal() method\n",
        "diag = gfg.diagonal()\n",
        "   \n",
        "print(diag)"
      ],
      "execution_count": 22,
      "outputs": [
        {
          "output_type": "stream",
          "text": [
            "[[6 4]]\n"
          ],
          "name": "stdout"
        }
      ]
    },
    {
      "cell_type": "markdown",
      "metadata": {
        "id": "myJVGR28Y_0C"
      },
      "source": [
        "***Transpose Of a Matrix***"
      ]
    },
    {
      "cell_type": "code",
      "metadata": {
        "colab": {
          "base_uri": "https://localhost:8080/"
        },
        "id": "WsRw_xu2Y-KC",
        "outputId": "0622ec34-0fca-432d-f3fc-c6a0e5c289e1"
      },
      "source": [
        "# make matrix with numpy\n",
        "gfg = np.matrix('[4, 1; 12, 3]')\n",
        "              \n",
        "# applying matrix.transpose() method\n",
        "trans = gfg.transpose()\n",
        "    \n",
        "print(trans)"
      ],
      "execution_count": 23,
      "outputs": [
        {
          "output_type": "stream",
          "text": [
            "[[ 4 12]\n",
            " [ 1  3]]\n"
          ],
          "name": "stdout"
        }
      ]
    },
    {
      "cell_type": "markdown",
      "metadata": {
        "id": "a9SJWm_0ZG9K"
      },
      "source": [
        "***Trace of a Matrix***"
      ]
    },
    {
      "cell_type": "code",
      "metadata": {
        "colab": {
          "base_uri": "https://localhost:8080/"
        },
        "id": "GoXhMGBzZFxD",
        "outputId": "f03692a1-cf90-4f7a-e375-f9a178df3ecf"
      },
      "source": [
        "# make matrix with numpy\n",
        "gfg = np.matrix('[4, 1; 12, 3]')\n",
        "              \n",
        "# applying matrix.trace() method\n",
        "trace = gfg.trace()\n",
        "    \n",
        "print(trace)"
      ],
      "execution_count": 25,
      "outputs": [
        {
          "output_type": "stream",
          "text": [
            "[[7]]\n"
          ],
          "name": "stdout"
        }
      ]
    }
  ]
}